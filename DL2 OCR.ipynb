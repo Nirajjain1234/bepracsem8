{
 "cells": [
  {
   "cell_type": "code",
   "execution_count": 1,
   "metadata": {},
   "outputs": [
    {
     "name": "stdout",
     "output_type": "stream",
     "text": [
      "WARNING:tensorflow:From C:\\Users\\rdkes\\anaconda3\\Lib\\site-packages\\keras\\src\\losses.py:2976: The name tf.losses.sparse_softmax_cross_entropy is deprecated. Please use tf.compat.v1.losses.sparse_softmax_cross_entropy instead.\n",
      "\n"
     ]
    }
   ],
   "source": [
    "import pandas as pd\n",
    "import numpy as np\n",
    "import seaborn as sns\n",
    "from sklearn.model_selection import train_test_split\n",
    "from sklearn.preprocessing import LabelEncoder\n",
    "from tensorflow.keras.models import Sequential\n",
    "from tensorflow.keras.layers import Dense"
   ]
  },
  {
   "cell_type": "code",
   "execution_count": 2,
   "metadata": {},
   "outputs": [],
   "source": [
    "url = \"https://archive.ics.uci.edu/ml/machine-learning-databases/letter-recognition/letter-recognition.data\"\n",
    "column_names = [\"letter\", \"x-box\", \"y-box\", \"width\", \"height\", \"onpix\",\"x-bar\", \"y-bar\", \"x2bar\", \"y2bar\", \"xybar\", \"x2ybr\", \"xy2br\", \"x-ege\",\"xegvy\", \"y-ege\", \"yegvx\"]\n",
    "data = pd.read_csv(url, names=column_names)"
   ]
  },
  {
   "cell_type": "code",
   "execution_count": 3,
   "metadata": {},
   "outputs": [],
   "source": [
    "X = data.drop('letter', axis=1)\n",
    "y = data['letter']"
   ]
  },
  {
   "cell_type": "code",
   "execution_count": 4,
   "metadata": {},
   "outputs": [],
   "source": [
    "label_encoder = LabelEncoder()\n",
    "y = label_encoder.fit_transform(y)"
   ]
  },
  {
   "cell_type": "code",
   "execution_count": 5,
   "metadata": {},
   "outputs": [],
   "source": [
    "X_train, X_test, y_train, y_test = train_test_split(X, y, test_size=0.2,random_state=42)"
   ]
  },
  {
   "cell_type": "code",
   "execution_count": 6,
   "metadata": {
    "scrolled": true
   },
   "outputs": [
    {
     "name": "stdout",
     "output_type": "stream",
     "text": [
      "WARNING:tensorflow:From C:\\Users\\rdkes\\anaconda3\\Lib\\site-packages\\keras\\src\\backend.py:873: The name tf.get_default_graph is deprecated. Please use tf.compat.v1.get_default_graph instead.\n",
      "\n"
     ]
    }
   ],
   "source": [
    "model = Sequential([\n",
    "Dense(128, activation='relu', input_shape=(16,)),\n",
    "Dense(64, activation='relu'),\n",
    "Dense(26, activation='softmax') # 26 classes for letters A-Z\n",
    "])"
   ]
  },
  {
   "cell_type": "code",
   "execution_count": 7,
   "metadata": {},
   "outputs": [
    {
     "name": "stdout",
     "output_type": "stream",
     "text": [
      "WARNING:tensorflow:From C:\\Users\\rdkes\\anaconda3\\Lib\\site-packages\\keras\\src\\optimizers\\__init__.py:309: The name tf.train.Optimizer is deprecated. Please use tf.compat.v1.train.Optimizer instead.\n",
      "\n"
     ]
    }
   ],
   "source": [
    "model.compile(optimizer='adam', loss='sparse_categorical_crossentropy',metrics=['accuracy'])"
   ]
  },
  {
   "cell_type": "code",
   "execution_count": 8,
   "metadata": {},
   "outputs": [
    {
     "name": "stdout",
     "output_type": "stream",
     "text": [
      "Epoch 1/10\n",
      "WARNING:tensorflow:From C:\\Users\\rdkes\\anaconda3\\Lib\\site-packages\\keras\\src\\utils\\tf_utils.py:492: The name tf.ragged.RaggedTensorValue is deprecated. Please use tf.compat.v1.ragged.RaggedTensorValue instead.\n",
      "\n",
      "WARNING:tensorflow:From C:\\Users\\rdkes\\anaconda3\\Lib\\site-packages\\keras\\src\\engine\\base_layer_utils.py:384: The name tf.executing_eagerly_outside_functions is deprecated. Please use tf.compat.v1.executing_eagerly_outside_functions instead.\n",
      "\n",
      "450/450 [==============================] - 2s 3ms/step - loss: 1.7970 - accuracy: 0.4953 - val_loss: 1.0913 - val_accuracy: 0.7050\n",
      "Epoch 2/10\n",
      "450/450 [==============================] - 1s 3ms/step - loss: 0.9634 - accuracy: 0.7294 - val_loss: 0.8558 - val_accuracy: 0.7656\n",
      "Epoch 3/10\n",
      "450/450 [==============================] - 1s 2ms/step - loss: 0.7959 - accuracy: 0.7697 - val_loss: 0.7636 - val_accuracy: 0.7856\n",
      "Epoch 4/10\n",
      "450/450 [==============================] - 1s 2ms/step - loss: 0.6699 - accuracy: 0.8052 - val_loss: 0.6752 - val_accuracy: 0.8100\n",
      "Epoch 5/10\n",
      "450/450 [==============================] - 1s 2ms/step - loss: 0.5946 - accuracy: 0.8243 - val_loss: 0.5954 - val_accuracy: 0.8288\n",
      "Epoch 6/10\n",
      "450/450 [==============================] - 1s 2ms/step - loss: 0.5330 - accuracy: 0.8399 - val_loss: 0.5486 - val_accuracy: 0.8438\n",
      "Epoch 7/10\n",
      "450/450 [==============================] - 1s 2ms/step - loss: 0.4803 - accuracy: 0.8573 - val_loss: 0.4625 - val_accuracy: 0.8569\n",
      "Epoch 8/10\n",
      "450/450 [==============================] - 1s 2ms/step - loss: 0.4430 - accuracy: 0.8654 - val_loss: 0.4598 - val_accuracy: 0.8594\n",
      "Epoch 9/10\n",
      "450/450 [==============================] - 1s 2ms/step - loss: 0.4049 - accuracy: 0.8773 - val_loss: 0.3991 - val_accuracy: 0.8863\n",
      "Epoch 10/10\n",
      "450/450 [==============================] - 1s 2ms/step - loss: 0.3723 - accuracy: 0.8870 - val_loss: 0.3757 - val_accuracy: 0.8925\n"
     ]
    },
    {
     "data": {
      "text/plain": [
       "<keras.src.callbacks.History at 0x242ba591150>"
      ]
     },
     "execution_count": 8,
     "metadata": {},
     "output_type": "execute_result"
    }
   ],
   "source": [
    "model.fit(X_train, y_train, epochs=10, batch_size=32, validation_split=0.1)"
   ]
  },
  {
   "cell_type": "code",
   "execution_count": 9,
   "metadata": {},
   "outputs": [
    {
     "name": "stdout",
     "output_type": "stream",
     "text": [
      "125/125 [==============================] - 0s 2ms/step - loss: 0.3661 - accuracy: 0.8903\n",
      "Test Accuracy: 89.03%\n"
     ]
    }
   ],
   "source": [
    "loss, accuracy = model.evaluate(X_test, y_test)\n",
    "print(f'Test Accuracy: {accuracy * 100:.2f}%')"
   ]
  },
  {
   "cell_type": "code",
   "execution_count": 10,
   "metadata": {},
   "outputs": [],
   "source": [
    "model.save('ocr_model.keras')"
   ]
  },
  {
   "cell_type": "code",
   "execution_count": 11,
   "metadata": {},
   "outputs": [],
   "source": [
    "from tensorflow.keras.models import load_model\n",
    "# Load the model\n",
    "loaded_model = load_model('ocr_model.keras')"
   ]
  },
  {
   "cell_type": "code",
   "execution_count": 13,
   "metadata": {},
   "outputs": [
    {
     "name": "stdout",
     "output_type": "stream",
     "text": [
      "1/1 [==============================] - 0s 31ms/step\n",
      "The predicted letter is: N\n"
     ]
    }
   ],
   "source": [
    "new_data = np.array([[7,11,6,6,3,5,9,4,6,4,4,10,6,10,2,8]])\n",
    "# Predict the class probabilities\n",
    "predicted_probabilities = loaded_model.predict(new_data)\n",
    "# Get the index of the class with the highest probability\n",
    "predicted_class_index = np.argmax(predicted_probabilities)\n",
    "# Convert the predicted class index back to original letter\n",
    "predicted_letter = label_encoder.inverse_transform([predicted_class_index])\n",
    "print(f\"The predicted letter is: {predicted_letter[0]}\")"
   ]
  },
  {
   "cell_type": "code",
   "execution_count": null,
   "metadata": {},
   "outputs": [],
   "source": []
  }
 ],
 "metadata": {
  "kernelspec": {
   "display_name": "Python 3 (ipykernel)",
   "language": "python",
   "name": "python3"
  },
  "language_info": {
   "codemirror_mode": {
    "name": "ipython",
    "version": 3
   },
   "file_extension": ".py",
   "mimetype": "text/x-python",
   "name": "python",
   "nbconvert_exporter": "python",
   "pygments_lexer": "ipython3",
   "version": "3.11.5"
  }
 },
 "nbformat": 4,
 "nbformat_minor": 2
}
